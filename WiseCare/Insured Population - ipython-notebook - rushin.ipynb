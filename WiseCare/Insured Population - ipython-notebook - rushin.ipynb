{
 "cells": [
  {
   "cell_type": "code",
   "execution_count": 1,
   "metadata": {
    "collapsed": true
   },
   "outputs": [],
   "source": [
    "# Import SQLContext and data types\n",
    "import pandas as pd\n",
    "import numpy as np\n",
    "from pyspark.sql import SQLContext\n",
    "from pyspark.sql.types import *\n",
    "from pyspark.sql.functions import *\n",
    "\n",
    "# adding the PySpak modul to SparkContext\n",
    "sc.addPyFile(\"https://raw.githubusercontent.com/seahboonsiew/pyspark-csv/master/pyspark_csv.py\")\n",
    "import pyspark_csv as pycsv"
   ]
  },
  {
   "cell_type": "code",
   "execution_count": 2,
   "metadata": {
    "collapsed": true
   },
   "outputs": [],
   "source": [
    "credentials_1 = {\n",
    "  'auth_url':'https://identity.open.softlayer.com',\n",
    "  'project':'object_storage_a64ed360_1046_47ee_8306_7e881c09a899',\n",
    "  'project_id':'681d965bc09145549ea14bc9e97fffe2',\n",
    "  'region':'dallas',\n",
    "  'user_id':'34c51c9624c34de2ae7f650bae2f9bab',\n",
    "  'domain_id':'7f69ac032ac4447baad561974b75c0f8',\n",
    "  'domain_name':'1140785',\n",
    "  'username':'admin_425181b163cc67c2b1523ef41b5fa367128a9c1c',\n",
    "  'password':\"\"\"dGa8]5HYn.3U#]s]\"\"\",\n",
    "  'filename':'raw_data.csv',\n",
    "  'container':'notebooks',\n",
    "  'tenantId':'s626-979e07d00dec8d-f52ae75781e5'\n",
    "}"
   ]
  },
  {
   "cell_type": "code",
   "execution_count": 3,
   "metadata": {
    "collapsed": true
   },
   "outputs": [],
   "source": [
    "def set_hadoop_config(credentials_1):\n",
    "    prefix = \"fs.swift.service.\" + credentials_1['name']\n",
    "    hconf = sc._jsc.hadoopConfiguration()\n",
    "    hconf.set(prefix + \".auth.url\", credentials_1['auth_url']+'/v2.0/tokens')\n",
    "    hconf.set(prefix + \".auth.endpoint.prefix\", \"endpoints\")\n",
    "    hconf.set(prefix + \".tenant\", credentials_1['project_id'])\n",
    "    hconf.set(prefix + \".username\", credentials_1['user_id'])\n",
    "    hconf.set(prefix + \".password\", credentials_1['password'])\n",
    "    hconf.setInt(prefix + \".http.port\", 8080)\n",
    "    hconf.set(prefix + \".region\", credentials_1['region'])"
   ]
  },
  {
   "cell_type": "code",
   "execution_count": 4,
   "metadata": {
    "collapsed": false
   },
   "outputs": [],
   "source": [
    "credentials_1['name'] = 'data'\n",
    "set_hadoop_config(credentials_1)"
   ]
  },
  {
   "cell_type": "code",
   "execution_count": 5,
   "metadata": {
    "collapsed": false
   },
   "outputs": [
    {
     "name": "stdout",
     "output_type": "stream",
     "text": [
      "Requirement already satisfied (use --upgrade to upgrade): plotly in /gpfs/global_fs01/sym_shared/YPProdSpark/user/s626-979e07d00dec8d-f52ae75781e5/.local/lib/python2.7/site-packages\n",
      "Requirement already satisfied (use --upgrade to upgrade): requests in /usr/local/src/bluemix_jupyter_bundle.v28/notebook/lib/python2.7/site-packages (from plotly)\n",
      "Requirement already satisfied (use --upgrade to upgrade): six in /usr/local/src/bluemix_jupyter_bundle.v28/notebook/lib/python2.7/site-packages (from plotly)\n",
      "Requirement already satisfied (use --upgrade to upgrade): pytz in /usr/local/src/bluemix_jupyter_bundle.v28/notebook/lib/python2.7/site-packages (from plotly)\n"
     ]
    }
   ],
   "source": [
    "!pip install plotly"
   ]
  },
  {
   "cell_type": "code",
   "execution_count": 6,
   "metadata": {
    "collapsed": false
   },
   "outputs": [],
   "source": [
    "import plotly.plotly as py\n",
    "py.sign_in('suchetamandal', 'Z523NejAKeOp6Xrpaa7E')\n",
    "import plotly.graph_objs as go"
   ]
  },
  {
   "cell_type": "code",
   "execution_count": 7,
   "metadata": {
    "collapsed": false
   },
   "outputs": [],
   "source": [
    "from plotly import __version__\n",
    "from plotly.offline import download_plotlyjs, init_notebook_mode, plot, iplot\n"
   ]
  },
  {
   "cell_type": "code",
   "execution_count": 8,
   "metadata": {
    "collapsed": false
   },
   "outputs": [
    {
     "data": {
      "text/html": [
       "<iframe id=\"igraph\" scrolling=\"no\" style=\"border:none;\" seamless=\"seamless\" src=\"https://plot.ly/~suchetamandal/40.embed\" height=\"525px\" width=\"100%\"></iframe>"
      ],
      "text/plain": [
       "<plotly.tools.PlotlyDisplay object>"
      ]
     },
     "execution_count": 8,
     "metadata": {},
     "output_type": "execute_result"
    }
   ],
   "source": [
    "import plotly\n",
    "import plotly.plotly as py\n",
    "import pandas as pd\n",
    "\n",
    "df = pd.read_csv('https://raw.githubusercontent.com/SJSU272Lab/Fall16-Team14/master/WiseCare/datasets/2013_data_csv.csv')\n",
    "\n",
    "for col in df.columns:\n",
    "    df[col] = df[col].astype(str)\n",
    "\n",
    "scl = [[0.0, 'rgb(190,255,190'],[0.2, 'rgb(145,255,145)'],[0.4, 'rgb(100,255,100)'],\\\n",
    "            [0.6, 'rgb(0,255,0)'],[0.8, 'rgb(50,205,50)'],[1.0, 'rgb((34,139,34)']]\n",
    "\n",
    "df['text'] = df['Location'] + '<br>' +\\\n",
    "    'Premium Average '+df['Insured']\n",
    "\n",
    "data = [ dict(\n",
    "        type='choropleth',\n",
    "        colorscale = scl,\n",
    "        autocolorscale = False,\n",
    "        locations = df['code'],\n",
    "        z = df['Insured'],\n",
    "        locationmode = 'USA-states',\n",
    "        text = \"Data testting\",\n",
    "        marker = dict(\n",
    "            line = dict (\n",
    "                color = 'rgb(255,255,255)',\n",
    "                width = 2\n",
    "            ) ),\n",
    "        colorbar = dict(\n",
    "            title = \"Percentage Insured\")\n",
    "        ) ]\n",
    "\n",
    "layout = dict(\n",
    "        title = '2013 Percentage of population enrolled for Health Insurance',\n",
    "        geo = dict(\n",
    "            scope='usa',\n",
    "            projection=dict( type='albers usa' ),\n",
    "            showlakes = True,\n",
    "            lakecolor = 'rgb(255, 255, 255)'),\n",
    "             )\n",
    "    \n",
    "fig = dict( data=data, layout=layout )\n",
    "py.iplot( fig, filename='insured-2013' )"
   ]
  },
  {
   "cell_type": "code",
   "execution_count": 9,
   "metadata": {
    "collapsed": false
   },
   "outputs": [
    {
     "name": "stdout",
     "output_type": "stream",
     "text": [
      "0     AL\n",
      "1     AK\n",
      "2     AZ\n",
      "3     AR\n",
      "4     CA\n",
      "5     CO\n",
      "6     CT\n",
      "7     DE\n",
      "8     DC\n",
      "9     FL\n",
      "10    GA\n",
      "11    HI\n",
      "12    ID\n",
      "13    IL\n",
      "14    IN\n",
      "15    IA\n",
      "16    KS\n",
      "17    KY\n",
      "18    LA\n",
      "19    ME\n",
      "20    MD\n",
      "21    MA\n",
      "22    MI\n",
      "23    MN\n",
      "24    MS\n",
      "25    MO\n",
      "26    MT\n",
      "27    NE\n",
      "28    NV\n",
      "29    NH\n",
      "30    NJ\n",
      "31    NM\n",
      "32    NY\n",
      "33    NC\n",
      "34    ND\n",
      "35    OH\n",
      "36    OK\n",
      "37    OR\n",
      "38    PA\n",
      "39    RI\n",
      "40    SC\n",
      "41    SD\n",
      "42    TN\n",
      "43    TX\n",
      "44    UT\n",
      "45    VT\n",
      "46    VA\n",
      "47    WA\n",
      "48    WV\n",
      "49    WI\n",
      "50    WY\n",
      "Name: Code, dtype: object\n"
     ]
    },
    {
     "data": {
      "text/html": [
       "<iframe id=\"igraph\" scrolling=\"no\" style=\"border:none;\" seamless=\"seamless\" src=\"https://plot.ly/~suchetamandal/42.embed\" height=\"525px\" width=\"100%\"></iframe>"
      ],
      "text/plain": [
       "<plotly.tools.PlotlyDisplay object>"
      ]
     },
     "execution_count": 9,
     "metadata": {},
     "output_type": "execute_result"
    }
   ],
   "source": [
    "df2 = pd.read_csv('https://raw.githubusercontent.com/SJSU272Lab/Fall16-Team14/master/2014_state_wise.csv')\n",
    "\n",
    "for col in df2.columns:\n",
    "    df2[col] = df2[col].astype(str)\n",
    "    \n",
    "print df2['Code']    \n",
    "\n",
    "scl = [[0.0, 'rgb(190,255,190'],[0.2, 'rgb(145,255,145)'],[0.4, 'rgb(100,255,100)'],\\\n",
    "            [0.6, 'rgb(0,255,0)'],[0.8, 'rgb(50,205,50)'],[1.0, 'rgb((34,139,34)']]\n",
    "\n",
    "df2['text'] = df2['Location'] + '<br>' +\\\n",
    "    'Premium Average '+df2['Insured']\n",
    "\n",
    "data = [ dict(\n",
    "        type='choropleth',\n",
    "        colorscale = scl,\n",
    "        autocolorscale = False,\n",
    "        locations = df2['Code'],\n",
    "        z = df2['Insured'],\n",
    "        locationmode = 'USA-states',\n",
    "        text = \"Data testting\",\n",
    "        marker = dict(\n",
    "            line = dict (\n",
    "                color = 'rgb(255,255,255)',\n",
    "                width = 2\n",
    "            ) ),\n",
    "        colorbar = dict(\n",
    "            title = \"Percentage Insured\")\n",
    "        ) ]\n",
    "\n",
    "layout = dict(\n",
    "        title = '2014 Percentage of Population Enrolled for Health Insurance Per State',\n",
    "        geo = dict(\n",
    "            scope='usa',\n",
    "            projection=dict( type='albers usa' ),\n",
    "            showlakes = True,\n",
    "            lakecolor = 'rgb(255, 255, 255)'),\n",
    "             )\n",
    "    \n",
    "fig2 = dict( data=data, layout=layout )\n",
    "py.iplot( fig2, filename='insured-2014' )"
   ]
  },
  {
   "cell_type": "code",
   "execution_count": 10,
   "metadata": {
    "collapsed": false,
    "scrolled": true
   },
   "outputs": [
    {
     "name": "stdout",
     "output_type": "stream",
     "text": [
      "0     AL\n",
      "1     AK\n",
      "2     AZ\n",
      "3     AR\n",
      "4     CA\n",
      "5     CO\n",
      "6     CT\n",
      "7     DE\n",
      "8     DC\n",
      "9     FL\n",
      "10    GA\n",
      "11    HI\n",
      "12    ID\n",
      "13    IL\n",
      "14    IN\n",
      "15    IA\n",
      "16    KS\n",
      "17    KY\n",
      "18    LA\n",
      "19    ME\n",
      "20    MD\n",
      "21    MA\n",
      "22    MI\n",
      "23    MN\n",
      "24    MS\n",
      "25    MO\n",
      "26    MT\n",
      "27    NE\n",
      "28    NV\n",
      "29    NH\n",
      "30    NJ\n",
      "31    NM\n",
      "32    NY\n",
      "33    NC\n",
      "34    ND\n",
      "35    OH\n",
      "36    OK\n",
      "37    OR\n",
      "38    PA\n",
      "39    RI\n",
      "40    SC\n",
      "41    SD\n",
      "42    TN\n",
      "43    TX\n",
      "44    UT\n",
      "45    VT\n",
      "46    VA\n",
      "47    WA\n",
      "48    WV\n",
      "49    WI\n",
      "50    WY\n",
      "Name: Code, dtype: object\n"
     ]
    },
    {
     "data": {
      "text/html": [
       "<iframe id=\"igraph\" scrolling=\"no\" style=\"border:none;\" seamless=\"seamless\" src=\"https://plot.ly/~suchetamandal/44.embed\" height=\"525px\" width=\"100%\"></iframe>"
      ],
      "text/plain": [
       "<plotly.tools.PlotlyDisplay object>"
      ]
     },
     "execution_count": 10,
     "metadata": {},
     "output_type": "execute_result"
    }
   ],
   "source": [
    "df3 = pd.read_csv('https://raw.githubusercontent.com/SJSU272Lab/Fall16-Team14/master/2015_state_wise.csv')\n",
    "\n",
    "for col in df3.columns:\n",
    "    df3[col] = df3[col].astype(str)\n",
    "    \n",
    "print df3['Code']    \n",
    "\n",
    "scl = [[0.0, 'rgb(190,255,190'],[0.2, 'rgb(145,255,145)'],[0.4, 'rgb(100,255,100)'],\\\n",
    "            [0.6, 'rgb(0,255,0)'],[0.8, 'rgb(50,205,50)'],[1.0, 'rgb((34,139,34)']]\n",
    "\n",
    "df2['text'] = df3['Location'] + '<br>' +\\\n",
    "            'Premium Average '+df3['Insured']\n",
    "\n",
    "data = [ dict(\n",
    "        type='choropleth',\n",
    "        colorscale = scl,\n",
    "        autocolorscale = False,\n",
    "        locations = df3['Code'],\n",
    "        z = df3['Insured'],\n",
    "        locationmode = 'USA-states',\n",
    "        text = \"Data testting\",\n",
    "        marker = dict(\n",
    "            line = dict (\n",
    "                color = 'rgb(255,255,255)',\n",
    "                width = 2\n",
    "            ) ),\n",
    "        colorbar = dict(\n",
    "            title = \"Percentage Insured\")\n",
    "        ) ]\n",
    "\n",
    "layout = dict(\n",
    "        title = '2015 Percentage of Population Enrolled for Health Insurance Per State',\n",
    "        geo = dict(\n",
    "            scope='usa',\n",
    "            projection=dict( type='albers usa' ),\n",
    "            showlakes = True,\n",
    "            lakecolor = 'rgb(255, 255, 255)'),\n",
    "             )\n",
    "    \n",
    "fig3 = dict( data=data, layout=layout )\n",
    "py.iplot( fig3, filename='insured-2015' )"
   ]
  },
  {
   "cell_type": "code",
   "execution_count": 22,
   "metadata": {
    "collapsed": false
   },
   "outputs": [
    {
     "data": {
      "text/html": [
       "<iframe id=\"igraph\" scrolling=\"no\" style=\"border:none;\" seamless=\"seamless\" src=\"https://plot.ly/~suchetamandal/48.embed\" height=\"525px\" width=\"100%\"></iframe>"
      ],
      "text/plain": [
       "<plotly.tools.PlotlyDisplay object>"
      ]
     },
     "execution_count": 22,
     "metadata": {},
     "output_type": "execute_result"
    }
   ],
   "source": [
    "import plotly.plotly as py\n",
    "py.sign_in('suchetamandal', 'Z523NejAKeOp6Xrpaa7E')\n",
    "import plotly.graph_objs as go\n",
    "\n",
    "\n",
    "# Create and style traces\n",
    "trace0 = go.Scatter(\n",
    "    x = [2013,2014,2015],\n",
    "    y = [87,90,91],\n",
    "    name = 'Percentage Insured',\n",
    "    line = dict(\n",
    "        color = ('rgb(205, 12, 24)'),\n",
    "        width = 3)\n",
    ")\n",
    "\n",
    "\n",
    "data = [trace0]\n",
    "\n",
    "# Edit the layout\n",
    "layout = dict(title = 'Trend of Insured Population 2013-2015',\n",
    "              xaxis = dict(title = 'Year')\n",
    "                      ,\n",
    "              yaxis = dict(title = 'Percentage Insured'),\n",
    "              )\n",
    "\n",
    "# Plot and embed in ipython notebook!\n",
    "fig = dict(data=data, layout=layout)\n",
    "py.iplot(fig, filename='Insured Trend 2013-2015')"
   ]
  },
  {
   "cell_type": "code",
   "execution_count": null,
   "metadata": {
    "collapsed": true
   },
   "outputs": [],
   "source": []
  }
 ],
 "metadata": {
  "kernelspec": {
   "display_name": "Python 2 with Spark 1.6",
   "language": "python",
   "name": "python2"
  },
  "language_info": {
   "codemirror_mode": {
    "name": "ipython",
    "version": 2
   },
   "file_extension": ".py",
   "mimetype": "text/x-python",
   "name": "python",
   "nbconvert_exporter": "python",
   "pygments_lexer": "ipython2",
   "version": "2.7.11"
  }
 },
 "nbformat": 4,
 "nbformat_minor": 0
}